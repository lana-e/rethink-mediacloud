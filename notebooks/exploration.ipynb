{
 "cells": [
  {
   "cell_type": "code",
   "execution_count": 2,
   "id": "48f742d9",
   "metadata": {},
   "outputs": [
    {
     "data": {
      "text/plain": [
       "True"
      ]
     },
     "execution_count": 2,
     "metadata": {},
     "output_type": "execute_result"
    }
   ],
   "source": [
    "# importing dependencies for MediaCloud API\n",
    "from dotenv import load_dotenv\n",
    "import os\n",
    "import mediacloud.api\n",
    "\n",
    "# loading config from .env file\n",
    "load_dotenv()"
   ]
  },
  {
   "cell_type": "code",
   "execution_count": 3,
   "id": "00ecdcdf",
   "metadata": {},
   "outputs": [
    {
     "data": {
      "text/plain": [
       "'3.12.3'"
      ]
     },
     "execution_count": 3,
     "metadata": {},
     "output_type": "execute_result"
    }
   ],
   "source": [
    "# reading API key from .env\n",
    "mc_api_key = os.getenv(\"MC_API_KEY\")\n",
    "\n",
    "# instantiating MediaCloud API\n",
    "mc = mediacloud.api.MediaCloud(mc_api_key)\n",
    "mediacloud.__version__"
   ]
  },
  {
   "cell_type": "code",
   "execution_count": 4,
   "id": "aaaf9b37",
   "metadata": {},
   "outputs": [
    {
     "data": {
      "text/plain": [
       "{'active_crawled_feeds': 164548,\n",
       " 'active_crawled_media': 58833,\n",
       " 'daily_downloads': 1193590,\n",
       " 'daily_stories': 725901,\n",
       " 'mediacloud_stats_id': 721,\n",
       " 'stats_date': '2021-09-19',\n",
       " 'total_downloads': 0,\n",
       " 'total_sentences': 0,\n",
       " 'total_stories': 1973779968}"
      ]
     },
     "execution_count": 4,
     "metadata": {},
     "output_type": "execute_result"
    }
   ],
   "source": [
    "# verifying API connection by printing some high-level stats\n",
    "mc.stats()"
   ]
  },
  {
   "cell_type": "code",
   "execution_count": 9,
   "id": "b8dbd945",
   "metadata": {},
   "outputs": [
    {
     "data": {
      "text/plain": [
       "[('Washington Post', 2),\n",
       " ('New York Times', 1),\n",
       " ('USA Today', 4),\n",
       " ('LA Times', 6),\n",
       " ('Bloomberg', 40944),\n",
       " ('Christian Science Monitor', 3),\n",
       " ('The Philadelphia Inquirer (PA)', 18),\n",
       " ('The Pittsburgh Post-Gazette (PA)', 45),\n",
       " ('PennLive/Patriot-News (PA)', 662863),\n",
       " ('Hartford Courant (CT)', 59),\n",
       " ('Baltimore Sun (MD)', 34),\n",
       " ('The Virginian-Pilot (VA)', 55),\n",
       " ('The Richmond Times-Dispatch (VA)', 53),\n",
       " ('Boston Globe (MA)', 15),\n",
       " ('Portland Press Herald (ME)', 366984),\n",
       " ('Austin American Statesman (TX)', 62),\n",
       " ('Atlanta Journal Constitution (GA)', 22916)]"
      ]
     },
     "execution_count": 9,
     "metadata": {},
     "output_type": "execute_result"
    }
   ],
   "source": [
    "# making dict of sources and source id's\n",
    "sources = {\n",
    "    \"Washington Post\": 2,\n",
    "    \"New York Times\": 1,\n",
    "    \"USA Today\": 4,\n",
    "    \"LA Times\": 6,\n",
    "    \"Bloomberg\": 40944,\n",
    "    \"Christian Science Monitor\": 3,\n",
    "#     \"New York Daily News\": ,\n",
    "#     \"Star Ledger (NJ)\": ,\n",
    "    \"The Philadelphia Inquirer (PA)\": 18,\n",
    "    \"The Pittsburgh Post-Gazette (PA)\": 45,\n",
    "    \"PennLive/Patriot-News (PA)\": 662863,\n",
    "#     \"The Day (CT)\": ,\n",
    "    \"Hartford Courant (CT)\": 59,\n",
    "    \"Baltimore Sun (MD)\": 34,\n",
    "#     \"The Capital Gazette (MD)\": ,\n",
    "    \"The Virginian-Pilot (VA)\": 55,\n",
    "    \"The Richmond Times-Dispatch (VA)\": 53,\n",
    "    \"Boston Globe (MA)\": 15,\n",
    "    \"Portland Press Herald (ME)\": 366984,\n",
    "#     \"Houston Chronicle (TX)\": ,\n",
    "    \"Austin American Statesman (TX)\": 62,\n",
    "    \"Atlanta Journal Constitution (GA)\": 22916\n",
    "#     \"Raleigh News and Observer (NC)\": ,\n",
    "#     \"The Cleveland Plain Dealer (OH)\": ,\n",
    "}"
   ]
  },
  {
   "cell_type": "code",
   "execution_count": 13,
   "id": "350a8f08",
   "metadata": {},
   "outputs": [
    {
     "name": "stdout",
     "output_type": "stream",
     "text": [
      "Washington Post:\n",
      "8948 stories about 9/11\n",
      "1.051449091438939% stories are about 9/11\n",
      "\n",
      "New York Times:\n",
      "6400 stories about 9/11\n",
      "0.7738038383088518% stories are about 9/11\n",
      "\n",
      "USA Today:\n",
      "3540 stories about 9/11\n",
      "0.5763942145651888% stories are about 9/11\n",
      "\n",
      "LA Times:\n",
      "3722 stories about 9/11\n",
      "0.37661848810241755% stories are about 9/11\n",
      "\n",
      "Bloomberg:\n",
      "329 stories about 9/11\n",
      "0.26944906266123947% stories are about 9/11\n",
      "\n",
      "Christian Science Monitor:\n",
      "1380 stories about 9/11\n",
      "1.280326576054182% stories are about 9/11\n",
      "\n",
      "The Philadelphia Inquirer (PA):\n",
      "1500 stories about 9/11\n",
      "0.5368839256952647% stories are about 9/11\n",
      "\n",
      "The Pittsburgh Post-Gazette (PA):\n",
      "1367 stories about 9/11\n",
      "0.749131402141628% stories are about 9/11\n",
      "\n",
      "PennLive/Patriot-News (PA):\n",
      "0 stories about 9/11\n",
      "0.0% stories are about 9/11\n",
      "\n",
      "Hartford Courant (CT):\n",
      "285 stories about 9/11\n",
      "0.46445682995991006% stories are about 9/11\n",
      "\n",
      "Baltimore Sun (MD):\n",
      "1136 stories about 9/11\n",
      "0.34998213119400595% stories are about 9/11\n",
      "\n",
      "The Virginian-Pilot (VA):\n",
      "105 stories about 9/11\n",
      "0.6568247216314275% stories are about 9/11\n",
      "\n",
      "The Richmond Times-Dispatch (VA):\n",
      "172 stories about 9/11\n",
      "0.8077013383423339% stories are about 9/11\n",
      "\n",
      "Boston Globe (MA):\n",
      "1809 stories about 9/11\n",
      "0.4781817989574632% stories are about 9/11\n",
      "\n",
      "Portland Press Herald (ME):\n",
      "584 stories about 9/11\n",
      "0.756319933692499% stories are about 9/11\n",
      "\n",
      "Austin American Statesman (TX):\n",
      "653 stories about 9/11\n",
      "0.42739518018666633% stories are about 9/11\n",
      "\n",
      "Atlanta Journal Constitution (GA):\n",
      "243 stories about 9/11\n",
      "0.4168882636518039% stories are about 9/11\n",
      "\n"
     ]
    }
   ],
   "source": [
    "# defining query\n",
    "for source in sources:\n",
    "    test_query = f'\"9/11\" and media_id:{sources[source]}'\n",
    "    total_query = f'media_id:{sources[source]}'\n",
    "    num_stories = mc.storyCount(test_query)['count']\n",
    "    total_stories = mc.storyCount(total_query)['count']\n",
    "    print(f\"{source}:\")\n",
    "    print(f\"{num_stories} stories about 9/11\")\n",
    "    print(f\"{(num_stories/total_stories)*100}% stories are about 9/11\\n\")"
   ]
  },
  {
   "cell_type": "code",
   "execution_count": null,
   "id": "ef418354",
   "metadata": {},
   "outputs": [],
   "source": []
  }
 ],
 "metadata": {
  "kernelspec": {
   "display_name": "Python 3 (ipykernel)",
   "language": "python",
   "name": "python3"
  },
  "language_info": {
   "codemirror_mode": {
    "name": "ipython",
    "version": 3
   },
   "file_extension": ".py",
   "mimetype": "text/x-python",
   "name": "python",
   "nbconvert_exporter": "python",
   "pygments_lexer": "ipython3",
   "version": "3.9.7"
  }
 },
 "nbformat": 4,
 "nbformat_minor": 5
}
