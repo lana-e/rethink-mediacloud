{
 "cells": [
  {
   "cell_type": "code",
   "execution_count": 1,
   "id": "48f742d9",
   "metadata": {},
   "outputs": [
    {
     "data": {
      "text/plain": [
       "True"
      ]
     },
     "execution_count": 1,
     "metadata": {},
     "output_type": "execute_result"
    }
   ],
   "source": [
    "# importing dependencies for MediaCloud API\n",
    "from dotenv import load_dotenv\n",
    "import os\n",
    "import mediacloud.api\n",
    "\n",
    "# loading config from .env file\n",
    "load_dotenv()"
   ]
  },
  {
   "cell_type": "code",
   "execution_count": 2,
   "id": "00ecdcdf",
   "metadata": {},
   "outputs": [
    {
     "data": {
      "text/plain": [
       "'3.12.3'"
      ]
     },
     "execution_count": 2,
     "metadata": {},
     "output_type": "execute_result"
    }
   ],
   "source": [
    "# reading API key from .env\n",
    "mc_api_key = os.getenv(\"MC_API_KEY\")\n",
    "\n",
    "# instantiating MediaCloud API\n",
    "mc = mediacloud.api.MediaCloud(mc_api_key)\n",
    "mediacloud.__version__"
   ]
  },
  {
   "cell_type": "code",
   "execution_count": 3,
   "id": "aaaf9b37",
   "metadata": {},
   "outputs": [
    {
     "data": {
      "text/plain": [
       "{'active_crawled_feeds': 164548,\n",
       " 'active_crawled_media': 58833,\n",
       " 'daily_downloads': 1193590,\n",
       " 'daily_stories': 725901,\n",
       " 'mediacloud_stats_id': 721,\n",
       " 'stats_date': '2021-09-19',\n",
       " 'total_downloads': 0,\n",
       " 'total_sentences': 0,\n",
       " 'total_stories': 1973779968}"
      ]
     },
     "execution_count": 3,
     "metadata": {},
     "output_type": "execute_result"
    }
   ],
   "source": [
    "# verifying API connection by printing some high-level stats\n",
    "mc.stats()"
   ]
  },
  {
   "cell_type": "code",
   "execution_count": null,
   "id": "b8dbd945",
   "metadata": {},
   "outputs": [],
   "source": []
  }
 ],
 "metadata": {
  "kernelspec": {
   "display_name": "Python 3 (ipykernel)",
   "language": "python",
   "name": "python3"
  },
  "language_info": {
   "codemirror_mode": {
    "name": "ipython",
    "version": 3
   },
   "file_extension": ".py",
   "mimetype": "text/x-python",
   "name": "python",
   "nbconvert_exporter": "python",
   "pygments_lexer": "ipython3",
   "version": "3.9.7"
  }
 },
 "nbformat": 4,
 "nbformat_minor": 5
}
